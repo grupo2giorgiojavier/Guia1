{
  "nbformat": 4,
  "nbformat_minor": 0,
  "metadata": {
    "kernelspec": {
      "name": "python3",
      "display_name": "Python 3"
    },
    "colab": {
      "name": "Ejercicio 4.ipynb",
      "provenance": []
    }
  },
  "cells": [
    {
      "cell_type": "code",
      "metadata": {
        "pycharm": {
          "name": "#%%\n"
        },
        "id": "i0Nx6P_ZTWhy",
        "colab_type": "code",
        "colab": {
          "base_uri": "https://localhost:8080/",
          "height": 168
        },
        "outputId": "b0c1ae01-1145-4fae-8838-7998bb450f70"
      },
      "source": [
        "# Pide por pantalla al usuario la edad de ambas personas y imprime si son mayores, menores o iguales \n",
        "while True:\n",
        "  try:\n",
        "    edad1=int(input('Edad de la primera persona : '))\n",
        "    edad2=int(input('Edad de la segunda persona : '))\n",
        "    if edad1<110 and edad2<110:\n",
        "      break\n",
        "    else:\n",
        "      print('Porfavor solo ingresar edades')\n",
        "      continue\n",
        "  except ValueError:\n",
        "    print('Porfavor solo ingresar edades')\n",
        "    \n",
        "if edad1>edad2:\n",
        "    print('El primero es mayor')\n",
        "elif edad1<edad2:\n",
        "    print('El segundo es mayor')\n",
        "else:\n",
        "    print('Ambos tienen la misma edad')"
      ],
      "execution_count": 5,
      "outputs": [
        {
          "output_type": "stream",
          "text": [
            "Edad de la primera persona : 12\n",
            "Edad de la segunda persona : 140\n",
            "Porfavor solo ingresar edades\n",
            "Edad de la primera persona : 12\n",
            "Edad de la segunda persona : 23.5\n",
            "Porfavor solo ingresar edades\n",
            "Edad de la primera persona : 12\n",
            "Edad de la segunda persona : 34\n",
            "El segundo es mayor\n"
          ],
          "name": "stdout"
        }
      ]
    }
  ]
}