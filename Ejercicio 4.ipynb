{
  "nbformat": 4,
  "nbformat_minor": 0,
  "metadata": {
    "kernelspec": {
      "name": "python3",
      "display_name": "Python 3"
    },
    "colab": {
      "name": "Ejercicio 4.ipynb",
      "provenance": []
    }
  },
  "cells": [
    {
      "cell_type": "code",
      "metadata": {
        "pycharm": {
          "name": "#%%\n"
        },
        "id": "i0Nx6P_ZTWhy",
        "colab_type": "code",
        "colab": {
          "base_uri": "https://localhost:8080/",
          "height": 67
        },
        "outputId": "80ecc699-f811-4af3-9c70-c437228321ec"
      },
      "source": [
        "# Pide por pantalla al usuario la edad de ambas personas y imprime si son mayores, menores o iguales \n",
        "edad1=input('Edad de la primera persona : ')\n",
        "edad2=input('Edad de la segunda persona : ')\n",
        "if edad1>edad2:\n",
        "    print('El primero es mayor')\n",
        "elif edad1<edad2:\n",
        "    print('El segundo es mayor')\n",
        "else:\n",
        "    print('Ambos tienen la misma edad')"
      ],
      "execution_count": 12,
      "outputs": [
        {
          "output_type": "stream",
          "text": [
            "Edad de la primera persona : 23\n",
            "Edad de la segunda persona : 45\n",
            "El segundo es mayor\n"
          ],
          "name": "stdout"
        }
      ]
    }
  ]
}