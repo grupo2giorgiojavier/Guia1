{
 "cells": [
  {
   "cell_type": "code",
   "execution_count": 2,
   "metadata": {
    "collapsed": true,
    "pycharm": {
     "name": "#%%\n"
    }
   },
   "outputs": [
    {
     "name": "stdout",
     "output_type": "stream",
     "text": [
      "El segundo es mayor\n"
     ]
    }
   ],
   "source": [
    "edad1=input('Edad de la primera persona : ')\n",
    "edad2=input('Edad de la segunda persona : ')\n",
    "if edad1>edad2:\n",
    "    print('El primero es mayor')\n",
    "elif edad1<edad2:\n",
    "    print('El segundo es mayor')\n",
    "else:\n",
    "    print('Ambos tienen la misma edad')"
   ]
  }
 ],
 "metadata": {
  "kernelspec": {
   "name": "pycharm-1c0e264a",
   "language": "python",
   "display_name": "PyCharm (EIE507)"
  },
  "language_info": {
   "codemirror_mode": {
    "name": "ipython",
    "version": 2
   },
   "file_extension": ".py",
   "mimetype": "text/x-python",
   "name": "python",
   "nbconvert_exporter": "python",
   "pygments_lexer": "ipython2",
   "version": "2.7.6"
  }
 },
 "nbformat": 4,
 "nbformat_minor": 0
}