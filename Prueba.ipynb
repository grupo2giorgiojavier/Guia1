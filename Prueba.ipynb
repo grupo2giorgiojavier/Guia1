{
 "cells": [
  {
   "cell_type": "code",
   "execution_count": 1,
   "metadata": {
    "collapsed": true
   },
   "outputs": [
    {
     "ename": "SyntaxError",
     "evalue": "invalid syntax (<ipython-input-1-404a8ce3e6e3>, line 1)",
     "output_type": "error",
     "traceback": [
      "\u001B[1;36m  File \u001B[1;32m\"<ipython-input-1-404a8ce3e6e3>\"\u001B[1;36m, line \u001B[1;32m1\u001B[0m\n\u001B[1;33m    esta es una prueba para el repositorio\u001B[0m\n\u001B[1;37m         ^\u001B[0m\n\u001B[1;31mSyntaxError\u001B[0m\u001B[1;31m:\u001B[0m invalid syntax\n"
     ]
    }
   ],
   "source": [
    "esta es una prueba para el repositorio\n"
   ]
  }
 ],
 "metadata": {
  "kernelspec": {
   "name": "pycharm-1c0e264a",
   "language": "python",
   "display_name": "PyCharm (EIE507)"
  },
  "language_info": {
   "codemirror_mode": {
    "name": "ipython",
    "version": 2
   },
   "file_extension": ".py",
   "mimetype": "text/x-python",
   "name": "python",
   "nbconvert_exporter": "python",
   "pygments_lexer": "ipython2",
   "version": "2.7.6"
  }
 },
 "nbformat": 4,
 "nbformat_minor": 0
}