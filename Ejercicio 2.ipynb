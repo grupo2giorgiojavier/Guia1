{
  "nbformat": 4,
  "nbformat_minor": 0,
  "metadata": {
    "kernelspec": {
      "name": "python3",
      "display_name": "Python 3"
    },
    "colab": {
      "name": "Ejercicio 2.ipynb",
      "provenance": []
    }
  },
  "cells": [
    {
      "cell_type": "code",
      "metadata": {
        "pycharm": {
          "name": "#%%\n"
        },
        "id": "ggSzJS7OPuYJ",
        "colab_type": "code",
        "colab": {
          "base_uri": "https://localhost:8080/",
          "height": 101
        },
        "outputId": "7926418b-fc76-4a90-8005-b1c9ea2eb03a"
      },
      "source": [
        "a = 'b'     \n",
        "print(a)          #Solo imprimirá el caracter b\n",
        "print(a +'b')     #Imprimirá dos veces el caracter b\n",
        "print(a + 'a')    #el caracter b + el caracter a\n",
        "print(a * 2 + 'b' * 3)  #Al multiplicar un caracter, al no ser un numero, es sumar(repetir) el mismo caracter x veces\n",
        "print(2 * (a + 'b'))    #Repetira dos veces \"bb\""
      ],
      "execution_count": 2,
      "outputs": [
        {
          "output_type": "stream",
          "text": [
            "b\n",
            "bb\n",
            "ba\n",
            "bbbbb\n",
            "bbbb\n"
          ],
          "name": "stdout"
        }
      ]
    }
  ]
}