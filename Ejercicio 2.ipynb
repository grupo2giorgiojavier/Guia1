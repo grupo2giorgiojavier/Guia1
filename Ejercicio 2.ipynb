{
 "cells": [
  {
   "cell_type": "code",
   "execution_count": 6,
   "outputs": [
    {
     "name": "stdout",
     "output_type": "stream",
     "text": [
      "b\n",
      "bb\n",
      "ba\n",
      "bbbbb\n",
      "bbbb\n"
     ]
    }
   ],
   "source": [
    "a = 'b'\n",
    "print(a)\n",
    "print(a +'b')\n",
    "print(a + 'a')\n",
    "print(a * 2 + 'b' * 3)\n",
    "print(2 * (a + 'b'))\n",
    "\n",
    "prueba"
   ],
   "metadata": {
    "collapsed": false,
    "pycharm": {
     "name": "#%%\n"
    }
   }
  }
 ],
 "metadata": {
  "kernelspec": {
   "name": "pycharm-1c0e264a",
   "language": "python",
   "display_name": "PyCharm (EIE507)"
  },
  "language_info": {
   "codemirror_mode": {
    "name": "ipython",
    "version": 2
   },
   "file_extension": ".py",
   "mimetype": "text/x-python",
   "name": "python",
   "nbconvert_exporter": "python",
   "pygments_lexer": "ipython2",
   "version": "2.7.6"
  }
 },
 "nbformat": 4,
 "nbformat_minor": 0
}