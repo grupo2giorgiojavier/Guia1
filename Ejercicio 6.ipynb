{
 "cells": [
  {
   "cell_type": "code",
   "execution_count": 52,
   "metadata": {
    "collapsed": true
   },
   "outputs": [
    {
     "data": {
      "text/plain": "[3, 1, 4, 1, 5, 9, 2, 6, 5, 3]"
     },
     "execution_count": 52,
     "metadata": {},
     "output_type": "execute_result"
    }
   ],
   "source": [
    "x = []\n",
    "q,r,t,k,n,l = 1,0,1,1,3,3\n",
    "while len(x) < 10:\n",
    "    if 4*q+r-t < n*t:\n",
    "        x.append(n)\n",
    "        q,r,t,k,n,l = (\n",
    "            10*q,10*(r-n*t),t,k,\n",
    "            (10*(3*q+r))//t-10*n,l)\n",
    "    else:\n",
    "        q,r,t,k,n,l = (\n",
    "            q*k,(2*q+r)*l,t*l,k+1,\n",
    "            (q*(7*k+2)+r*l)//(t*l),l+2)\n",
    "x"
   ]
  }
 ],
 "metadata": {
  "kernelspec": {
   "name": "pycharm-1c0e264a",
   "language": "python",
   "display_name": "PyCharm (EIE507)"
  },
  "language_info": {
   "codemirror_mode": {
    "name": "ipython",
    "version": 2
   },
   "file_extension": ".py",
   "mimetype": "text/x-python",
   "name": "python",
   "nbconvert_exporter": "python",
   "pygments_lexer": "ipython2",
   "version": "2.7.6"
  }
 },
 "nbformat": 4,
 "nbformat_minor": 0
}