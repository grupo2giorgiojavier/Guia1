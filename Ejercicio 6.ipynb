{
 "cells": [
  {
   "cell_type": "markdown",
   "source": [
    "Expansiones de series de Taylor para Arccot:\n",
    "$$\\sum_{n=0}^{\\infty}(-1)^{n}\\frac{1}{(2n+1)x^{2n+1}}$$\n",
    "\n",
    "Formula de Machin: $$\\pi=4\\cdot({\\textrm{arccot(5)}-\\textrm{arccot(239))}}$$\n",
    "\n"
   ],
   "metadata": {
    "collapsed": false,
    "pycharm": {
     "name": "#%% md\n"
    }
   }
  },
  {
   "cell_type": "code",
   "execution_count": 69,
   "outputs": [
    {
     "name": "stdout",
     "output_type": "stream",
     "text": [
      "Pi con 500 decimales:  3.14159265358979323846264338327950288419716939937510582097494459230781640628620899862803482534211706798214808651328230664709384460955058223172535940812848111745028410270193852110555964462294895493038196442881097566593344612847564823378678316527120190914564856692346034861045432664821339360726024914127372458700660631558817488152092096282925409171536436789259036001133053054882046652138414695194151160943305727036575959195309218611738193261179310511854807446237996274956735188575272489122793818301194912\n"
     ]
    }
   ],
   "source": [
    "def arccot(x, decimales):\n",
    "    sum=0\n",
    "    n = 0\n",
    "    while True:\n",
    "        k=2*n+1\n",
    "        term=(-1)**n*decimales//(k*x**k) #Formula de Machin multiplicada por \"decimales\"\n",
    "        sum+= term\n",
    "        if term==False: #Cuando la división por entero ya no sea posible finaliza\n",
    "           break\n",
    "        n += 1\n",
    "    return sum\n",
    "\n",
    "def pi(digits):\n",
    "    #Se realiza las iteraciones con mas decimales y luego se truncan, para mas precision\n",
    "    decimales = 10**(digits + 10)\n",
    "    pin = 4 * (4*arccot(5, decimales) - arccot(239, decimales))\n",
    "    return pin // 10**10\n",
    "prec=int(input('Ingrese cantidad de decimales para calcular π'))\n",
    "pin=str(pi(prec))\n",
    "print('Pi con',prec, 'decimales: ', pin[0]+str('.')+str(pin[1:]))\n"
   ],
   "metadata": {
    "collapsed": false,
    "pycharm": {
     "name": "#%%\n"
    }
   }
  }
 ],
 "metadata": {
  "kernelspec": {
   "name": "pycharm-1c0e264a",
   "language": "python",
   "display_name": "PyCharm (EIE507)"
  },
  "language_info": {
   "codemirror_mode": {
    "name": "ipython",
    "version": 2
   },
   "file_extension": ".py",
   "mimetype": "text/x-python",
   "name": "python",
   "nbconvert_exporter": "python",
   "pygments_lexer": "ipython2",
   "version": "2.7.6"
  }
 },
 "nbformat": 4,
 "nbformat_minor": 0
}