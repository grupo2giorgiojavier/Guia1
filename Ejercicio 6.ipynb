{
 "cells": [
  {
   "cell_type": "code",
   "execution_count": 101,
   "metadata": {
    "collapsed": true
   },
   "outputs": [
    {
     "data": {
      "text/plain": "31415926535"
     },
     "execution_count": 101,
     "metadata": {},
     "output_type": "execute_result"
    }
   ],
   "source": [
    "def arccot(x, unity):\n",
    "    sum = xpower = unity // x\n",
    "    n = 3\n",
    "    sign = -1\n",
    "    while 1:\n",
    "        xpower = xpower // (x*x)\n",
    "        term = xpower // n\n",
    "        if not term:\n",
    "            break\n",
    "        sum += sign * term\n",
    "        sign = -sign\n",
    "        n += 2\n",
    "    return sum\n",
    " \n",
    "def pi(digits):\n",
    "    unity = 10**(digits + 10)\n",
    "    pi = 4 * (4*arccot(5, unity) - arccot(239, unity))\n",
    "    return pi // 10**10\n",
    "pi"
   ]
  }
 ],
 "metadata": {
  "kernelspec": {
   "name": "pycharm-1c0e264a",
   "language": "python",
   "display_name": "PyCharm (EIE507)"
  },
  "language_info": {
   "codemirror_mode": {
    "name": "ipython",
    "version": 2
   },
   "file_extension": ".py",
   "mimetype": "text/x-python",
   "name": "python",
   "nbconvert_exporter": "python",
   "pygments_lexer": "ipython2",
   "version": "2.7.6"
  }
 },
 "nbformat": 4,
 "nbformat_minor": 0
}